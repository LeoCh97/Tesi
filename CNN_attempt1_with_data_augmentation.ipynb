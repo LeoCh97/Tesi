{
  "nbformat": 4,
  "nbformat_minor": 0,
  "metadata": {
    "colab": {
      "name": "CNN_attempt1_with_data_augmentation.ipynb",
      "version": "0.3.2",
      "provenance": [],
      "collapsed_sections": [],
      "include_colab_link": true
    },
    "language_info": {
      "codemirror_mode": {
        "name": "ipython",
        "version": 3
      },
      "file_extension": ".py",
      "mimetype": "text/x-python",
      "name": "python",
      "nbconvert_exporter": "python",
      "pygments_lexer": "ipython3",
      "version": "3.7.1"
    },
    "kernelspec": {
      "name": "python3",
      "display_name": "Python 3"
    },
    "accelerator": "GPU"
  },
  "cells": [
    {
      "cell_type": "markdown",
      "metadata": {
        "id": "view-in-github",
        "colab_type": "text"
      },
      "source": [
        "<a href=\"https://colab.research.google.com/github/LeoCh97/Tesi/blob/master/CNN_attempt1_with_data_augmentation.ipynb\" target=\"_parent\"><img src=\"https://colab.research.google.com/assets/colab-badge.svg\" alt=\"Open In Colab\"/></a>"
      ]
    },
    {
      "cell_type": "code",
      "metadata": {
        "id": "BZUWkB8GLunS",
        "colab_type": "code",
        "colab": {}
      },
      "source": [
        "#!rm -r log\n",
        "#!mkdir log"
      ],
      "execution_count": 0,
      "outputs": []
    },
    {
      "cell_type": "code",
      "metadata": {
        "id": "Drf1zrZ3po3N",
        "colab_type": "code",
        "colab": {}
      },
      "source": [
        "import tensorflow as tf\n",
        "from tensorflow.keras.preprocessing.image import ImageDataGenerator\n",
        "from tensorflow.keras.models import Sequential\n",
        "from tensorflow.keras.layers import Conv2D, MaxPooling2D, AveragePooling2D, Activation, Dense, Flatten, Dropout\n",
        "from tensorflow.keras.utils import to_categorical, normalize\n",
        "from tensorflow.keras.callbacks import TensorBoard, EarlyStopping\n",
        "import matplotlib.pyplot as plt\n",
        "import pickle\n",
        "import time\n",
        "\n",
        "earlystopping = EarlyStopping(monitor='val_acc', patience=3, restore_best_weights=True)\n",
        "\n",
        "pickle_in = open(\"X_train.pickle\",\"rb\")\n",
        "X_train = pickle.load(pickle_in)\n",
        "\n",
        "pickle_in = open(\"y_train.pickle\",\"rb\")\n",
        "y_train = pickle.load(pickle_in)\n",
        "\n",
        "pickle_in = open(\"X_val.pickle\",\"rb\")\n",
        "X_val = pickle.load(pickle_in)\n",
        "\n",
        "pickle_in = open(\"y_val.pickle\",\"rb\")\n",
        "y_val = pickle.load(pickle_in)\n",
        "\n",
        "caty_train = to_categorical(y_train, num_classes=33)\n",
        "caty_val = to_categorical(y_val, num_classes=33)"
      ],
      "execution_count": 0,
      "outputs": []
    },
    {
      "cell_type": "code",
      "metadata": {
        "id": "wN4xQQsXzYBw",
        "colab_type": "code",
        "colab": {}
      },
      "source": [
        "fig = plt.figure(figsize=(5,4))\n",
        "for i in range(3):\n",
        "    for j in range(3):\n",
        "        ax = fig.add_subplot(3, 3, i * 3 + j + 1)\n",
        "        ax.imshow(X_train[i * 3 + j])"
      ],
      "execution_count": 0,
      "outputs": []
    },
    {
      "cell_type": "code",
      "metadata": {
        "id": "Hsi4a5pv0ogC",
        "colab_type": "code",
        "colab": {}
      },
      "source": [
        "X_train = normalize(X_train, axis=2)\n",
        "\n",
        "fig = plt.figure(figsize=(5,4))\n",
        "for i in range(3):\n",
        "    for j in range(3):\n",
        "        ax = fig.add_subplot(3, 3, i * 3 + j + 1)\n",
        "        ax.imshow(X_train[i * 3 + j])"
      ],
      "execution_count": 0,
      "outputs": []
    },
    {
      "cell_type": "code",
      "metadata": {
        "id": "A0NqT2vzpt9o",
        "colab_type": "code",
        "colab": {}
      },
      "source": [
        "imgaug_gen = ImageDataGenerator(\n",
        "                featurewise_center=True,\n",
        "                featurewise_std_normalization=True,\n",
        "                width_shift_range=0.1,\n",
        "                height_shift_range=0.1)\n",
        "\n",
        "imgaug_gen.fit(X_train)"
      ],
      "execution_count": 0,
      "outputs": []
    },
    {
      "cell_type": "code",
      "metadata": {
        "id": "6n1SveZkd5C-",
        "colab_type": "code",
        "colab": {
          "base_uri": "https://localhost:8080/",
          "height": 51
        },
        "outputId": "b723e228-e4ef-4301-8c21-f4fcfa656ae2"
      },
      "source": [
        "print(len(X_train))\n",
        "print(len(X_val))"
      ],
      "execution_count": 6,
      "outputs": [
        {
          "output_type": "stream",
          "text": [
            "6870\n",
            "5043\n"
          ],
          "name": "stdout"
        }
      ]
    },
    {
      "cell_type": "code",
      "metadata": {
        "id": "A3fHlC8SE3KV",
        "colab_type": "code",
        "colab": {
          "base_uri": "https://localhost:8080/",
          "height": 748
        },
        "outputId": "51a35568-529f-4952-cf4f-d59080368fa9"
      },
      "source": [
        "dense_layers = [0]\n",
        "layer_sizes = [64]\n",
        "conv_layers = [2]\n",
        "\n",
        "for dense_layer in dense_layers:\n",
        "    for layer_size in layer_sizes:\n",
        "        for conv_layer in conv_layers:\n",
        "            NAME = \"{}-conv-{}-nodes-{}-dense-{}\".format(conv_layer, layer_size, dense_layer, int(time.time()))\n",
        "            tensorboard = TensorBoard(log_dir=\"log/{}\".format(NAME))\n",
        "            print(NAME)\n",
        "\n",
        "            model = Sequential()\n",
        "\n",
        "            model.add(Conv2D(layer_size, (5, 5), strides=2, input_shape=X_train.shape[1:]))\n",
        "            model.add(Activation('relu'))\n",
        "            model.add(MaxPooling2D(pool_size=(2, 2)))\n",
        "            model.add(Dropout(0.25))\n",
        "\n",
        "            for l in range(conv_layer-1):\n",
        "                model.add(Conv2D(layer_size, (5, 5), strides=2))\n",
        "                model.add(Activation('relu'))\n",
        "                model.add(MaxPooling2D(pool_size=(2, 2)))\n",
        "                model.add(Dropout(0.25))\n",
        "\n",
        "            model.add(Flatten())\n",
        "            for _ in range(dense_layer):\n",
        "                model.add(Dense(layer_size))\n",
        "                model.add(Activation('relu'))\n",
        "                model.add(Dropout(0.5))\n",
        "\n",
        "            model.add(Dense(33))\n",
        "            model.add(Activation('softmax'))\n",
        "            \n",
        "            model.compile(loss=\"categorical_crossentropy\",\n",
        "                         optimizer=\"adam\",\n",
        "                         metrics=[\"accuracy\"])\n",
        "            \n",
        "            model.fit_generator(imgaug_gen.flow(X_train, caty_train, batch_size=32), steps_per_epoch= len(X_train)/32, epochs=15, validation_data=(X_val, caty_val), callbacks=[tensorboard, earlystopping])"
      ],
      "execution_count": 5,
      "outputs": [
        {
          "output_type": "stream",
          "text": [
            "2-conv-64-nodes-0-dense-1557167989\n",
            "Epoch 1/15\n",
            "5043/5043 [==============================] - 1s 260us/sample - loss: 4.2556 - acc: 0.7234\n",
            "215/215 [==============================] - 26s 122ms/step - loss: 1.8252 - acc: 0.5175 - val_loss: 4.2620 - val_acc: 0.7234\n",
            "Epoch 2/15\n",
            "5043/5043 [==============================] - 1s 248us/sample - loss: 2.3698 - acc: 0.8447\n",
            "215/215 [==============================] - 23s 106ms/step - loss: 0.8689 - acc: 0.7696 - val_loss: 2.3725 - val_acc: 0.8447\n",
            "Epoch 3/15\n",
            "5043/5043 [==============================] - 1s 258us/sample - loss: 2.2424 - acc: 0.8541\n",
            "215/215 [==============================] - 23s 108ms/step - loss: 0.6187 - acc: 0.8352 - val_loss: 2.2410 - val_acc: 0.8541\n",
            "Epoch 4/15\n",
            "5043/5043 [==============================] - 1s 253us/sample - loss: 1.5504 - acc: 0.8995\n",
            "215/215 [==============================] - 24s 112ms/step - loss: 0.5074 - acc: 0.8640 - val_loss: 1.5530 - val_acc: 0.8995\n",
            "Epoch 5/15\n",
            "5043/5043 [==============================] - 1s 257us/sample - loss: 1.5902 - acc: 0.8975\n",
            "215/215 [==============================] - 23s 106ms/step - loss: 0.4009 - acc: 0.8894 - val_loss: 1.5895 - val_acc: 0.8975\n",
            "Epoch 6/15\n",
            "5043/5043 [==============================] - 1s 263us/sample - loss: 1.3623 - acc: 0.9126\n",
            "215/215 [==============================] - 24s 112ms/step - loss: 0.3936 - acc: 0.8881 - val_loss: 1.3588 - val_acc: 0.9126\n",
            "Epoch 7/15\n",
            "5043/5043 [==============================] - 1s 242us/sample - loss: 1.2061 - acc: 0.9225\n",
            "215/215 [==============================] - 24s 114ms/step - loss: 0.3647 - acc: 0.8983 - val_loss: 1.2030 - val_acc: 0.9225\n",
            "Epoch 8/15\n",
            "5043/5043 [==============================] - 1s 270us/sample - loss: 1.1979 - acc: 0.9217\n",
            "215/215 [==============================] - 24s 114ms/step - loss: 0.3211 - acc: 0.9086 - val_loss: 1.2008 - val_acc: 0.9217\n",
            "Epoch 9/15\n",
            "5043/5043 [==============================] - 1s 281us/sample - loss: 1.2831 - acc: 0.9165\n",
            "215/215 [==============================] - 26s 119ms/step - loss: 0.3044 - acc: 0.9151 - val_loss: 1.2820 - val_acc: 0.9165\n",
            "Epoch 10/15\n",
            "5043/5043 [==============================] - 1s 274us/sample - loss: 1.0898 - acc: 0.9280\n",
            "215/215 [==============================] - 26s 121ms/step - loss: 0.2938 - acc: 0.9180 - val_loss: 1.0892 - val_acc: 0.9280\n",
            "Epoch 11/15\n",
            "5043/5043 [==============================] - 1s 277us/sample - loss: 0.9205 - acc: 0.9385\n",
            "215/215 [==============================] - 26s 120ms/step - loss: 0.2728 - acc: 0.9256 - val_loss: 0.9225 - val_acc: 0.9385\n",
            "Epoch 12/15\n",
            "5043/5043 [==============================] - 1s 278us/sample - loss: 1.0194 - acc: 0.9346\n",
            "215/215 [==============================] - 26s 121ms/step - loss: 0.2389 - acc: 0.9301 - val_loss: 1.0212 - val_acc: 0.9346\n",
            "Epoch 13/15\n",
            "5043/5043 [==============================] - 1s 265us/sample - loss: 1.0844 - acc: 0.9300\n",
            "215/215 [==============================] - 26s 121ms/step - loss: 0.2292 - acc: 0.9330 - val_loss: 1.0882 - val_acc: 0.9300\n",
            "Epoch 14/15\n",
            "5043/5043 [==============================] - 1s 256us/sample - loss: 1.0082 - acc: 0.9342\n",
            "215/215 [==============================] - 24s 114ms/step - loss: 0.2095 - acc: 0.9402 - val_loss: 1.0084 - val_acc: 0.9342\n"
          ],
          "name": "stdout"
        }
      ]
    }
  ]
}